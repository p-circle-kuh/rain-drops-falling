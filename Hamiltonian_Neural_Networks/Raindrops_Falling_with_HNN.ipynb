{
  "cells": [
    {
      "cell_type": "markdown",
      "source": [
        "Clone official HNN repositry"
      ],
      "metadata": {
        "id": "Mv6GTgdvvvfi"
      }
    },
    {
      "cell_type": "code",
      "source": [
        "!git clone https://github.com/greydanus/hamiltonian-nn.git"
      ],
      "metadata": {
        "id": "5vSbzFt7EfHZ"
      },
      "execution_count": null,
      "outputs": []
    },
    {
      "cell_type": "code",
      "source": [
        "cd hamiltonian-nn/"
      ],
      "metadata": {
        "id": "PoSJHEPN_KTf"
      },
      "execution_count": null,
      "outputs": []
    },
    {
      "cell_type": "markdown",
      "source": [
        "Prepare scripts for raindrops falling"
      ],
      "metadata": {
        "id": "u_jhBMkcv1Se"
      }
    },
    {
      "cell_type": "code",
      "source": [
        "!tar -zxvf experiment-raindrops.tar.gz"
      ],
      "metadata": {
        "id": "0pzJSS_uI_6Y",
        "colab": {
          "base_uri": "https://localhost:8080/"
        },
        "outputId": "06ecef79-a15a-4dc2-f374-f66ab04207e1"
      },
      "execution_count": 8,
      "outputs": [
        {
          "output_type": "stream",
          "name": "stdout",
          "text": [
            "experiment-raindrops/\n",
            "experiment-raindrops/__pycache__/\n",
            "experiment-raindrops/__pycache__/data.cpython-310.pyc\n",
            "experiment-raindrops/.ipynb_checkpoints/\n",
            "experiment-raindrops/train.py\n",
            "experiment-raindrops/raindrops-hnn.tar\n",
            "experiment-raindrops/data.py\n"
          ]
        }
      ]
    },
    {
      "cell_type": "markdown",
      "source": [
        "Training"
      ],
      "metadata": {
        "id": "APBykMugvsO6"
      }
    },
    {
      "cell_type": "code",
      "source": [
        "!python3 experiment-raindrops/train.py --verbose --name raindrops --noise 0.5"
      ],
      "metadata": {
        "id": "WLPDiycJIdx4",
        "colab": {
          "base_uri": "https://localhost:8080/"
        },
        "outputId": "85eed8e0-daeb-459b-80a7-f88cca31facb"
      },
      "execution_count": 12,
      "outputs": [
        {
          "output_type": "stream",
          "name": "stdout",
          "text": [
            "Training HNN model:\n",
            "step 0, train_loss 4.3501e+01, test_loss 4.3048e+01\n",
            "step 200, train_loss 1.3799e-01, test_loss 1.4982e-01\n",
            "step 400, train_loss 6.3683e-02, test_loss 7.4808e-02\n",
            "step 600, train_loss 3.5387e-02, test_loss 4.3117e-02\n",
            "step 800, train_loss 2.5840e-02, test_loss 3.1837e-02\n",
            "step 1000, train_loss 2.2574e-02, test_loss 2.7789e-02\n",
            "step 1200, train_loss 2.1048e-02, test_loss 2.5939e-02\n",
            "step 1400, train_loss 2.2968e-02, test_loss 2.6084e-02\n",
            "step 1600, train_loss 1.9823e-02, test_loss 2.4547e-02\n",
            "step 1800, train_loss 1.9543e-02, test_loss 2.4265e-02\n",
            "step 2000, train_loss 1.9362e-02, test_loss 2.4083e-02\n",
            "Final train loss 1.9362e-02 +/- 1.9154e-03\n",
            "Final test loss 2.4083e-02 +/- 2.3686e-03\n"
          ]
        }
      ]
    },
    {
      "cell_type": "markdown",
      "source": [
        "Inference"
      ],
      "metadata": {
        "id": "9dPcYYNosOrT"
      }
    },
    {
      "cell_type": "code",
      "source": [
        "import torch\n",
        "from hnn import HNN\n",
        "from nn_models import MLP\n",
        "import matplotlib.pyplot as plt\n",
        "import numpy as np"
      ],
      "metadata": {
        "id": "mBKeytH77NkA"
      },
      "execution_count": 13,
      "outputs": []
    },
    {
      "cell_type": "code",
      "source": [
        "nn_model = MLP(2, 200, 2, 'tanh')\n",
        "model = HNN(2, differentiable_model=nn_model)\n",
        "model.load_state_dict(torch.load('experiment-raindrops/raindrops-hnn.tar'))\n",
        "\n",
        "q = 0\n",
        "p = 0\n",
        "dt = 0.1 #[s]\n",
        "qs = [0]\n",
        "ps = [0]\n",
        "ts = [0]\n",
        "nstep = 100\n",
        "for t in range(nstep - 1):\n",
        "    x = torch.tensor([[q, p]], requires_grad=True, dtype=torch.float32)\n",
        "    [dqdt, dpdt] = model.time_derivative(x)[0]\n",
        "    q = q + dqdt * dt\n",
        "    p = p + dpdt * dt\n",
        "    ts.append((t+1) * dt)\n",
        "    qs.append(q.detach().numpy())\n",
        "    ps.append(p.detach().numpy())"
      ],
      "metadata": {
        "id": "YXSqmnezAEfv"
      },
      "execution_count": 14,
      "outputs": []
    },
    {
      "cell_type": "markdown",
      "source": [
        "Plot"
      ],
      "metadata": {
        "id": "bFgwBuSRsz82"
      }
    },
    {
      "cell_type": "code",
      "source": [
        "import autograd\n",
        "import autograd.numpy as np\n",
        "\n",
        "import scipy.integrate\n",
        "solve_ivp = scipy.integrate.solve_ivp\n",
        "\n",
        "\n",
        "def my_get_trajectory(noise_std=0.0, **kwargs):\n",
        "\n",
        "  def my_func(t,x):\n",
        "    p, q = x\n",
        "    return [g * np.exp(-k*t), g * (1 - np.exp(-k*t)) / k]\n",
        "\n",
        "  # Initial Values\n",
        "  T_INITIAL = 0  # [s]\n",
        "  p0 = 0.0\n",
        "  q0 = 0.0\n",
        "  init = [p0, q0]\n",
        "\n",
        "  # Params for Phys.\n",
        "  k = 1  # [1/s]\n",
        "  g = 9.8  # [m/s]\n",
        "\n",
        "  # Params for Calc.\n",
        "  T_FINAL = 10  # [s]\n",
        "  T_STEP = 0.1  # [s]\n",
        "\n",
        "  n_steps = (T_FINAL - T_INITIAL) / T_STEP\n",
        "  t_eval = T_INITIAL + np.arange(0, n_steps) * T_STEP\n",
        "  t_span = [T_INITIAL, T_FINAL]\n",
        "\n",
        "  result = solve_ivp(my_func, t_span, init, method='RK45', t_eval=t_eval)\n",
        "  p = result.y[0,:]\n",
        "  q = result.y[1,:]\n",
        "  dpdt = g * np.exp(-k*t_eval)\n",
        "  dqdt = g * (1 - np.exp(-k*t_eval)) / k\n",
        "\n",
        "  # add noise\n",
        "  q += np.random.randn(*q.shape)*noise_std\n",
        "  p += np.random.randn(*p.shape)*noise_std\n",
        "  return q, p, dqdt, dpdt, t_eval\n",
        "\n",
        "\n",
        "def get_dataset(seed=0, samples=50, test_split=0.5, **kwargs):\n",
        "    data = {'meta': locals()}\n",
        "\n",
        "    # randomly sample inputs\n",
        "    np.random.seed(seed)\n",
        "    xs, dxs = [], []\n",
        "    for s in range(samples):\n",
        "        x, y, dx, dy, t = my_get_trajectory(**kwargs)\n",
        "        xs.append( np.stack( [x, y]).T )\n",
        "        dxs.append( np.stack( [dx, dy]).T )\n",
        "\n",
        "    data['x'] = np.concatenate(xs)\n",
        "    data['dx'] = np.concatenate(dxs).squeeze()\n",
        "\n",
        "    # make a train/test split\n",
        "    split_ix = int(len(data['x']) * test_split)\n",
        "    split_data = {}\n",
        "    for k in ['x', 'dx']:\n",
        "        split_data[k], split_data['test_' + k] = data[k][:split_ix], data[k][split_ix:]\n",
        "    data = split_data\n",
        "    return data"
      ],
      "metadata": {
        "id": "6njJGblck6iu"
      },
      "execution_count": 15,
      "outputs": []
    },
    {
      "cell_type": "code",
      "source": [
        "data = get_dataset(seed=0)\n",
        "ps_hat = data['x'][:100,1].flatten()\n",
        "ps_hat = ps_hat.tolist()\n",
        "qs_hat = data['x'][:100,0].flatten()\n",
        "qs_hat = qs_hat.tolist()"
      ],
      "metadata": {
        "id": "jOrImpgNdPnQ"
      },
      "execution_count": 16,
      "outputs": []
    },
    {
      "cell_type": "code",
      "source": [
        "g = np.repeat([9.8],100)"
      ],
      "metadata": {
        "id": "Ny8W4YI3nAju"
      },
      "execution_count": 17,
      "outputs": []
    },
    {
      "cell_type": "code",
      "source": [
        "plt.title('Velocity of a falling raindrop (g=9.8[m/s^2], k=1[1/s])')\n",
        "plt.xlim([0,10])\n",
        "plt.xlabel('t[s]')\n",
        "plt.ylabel('v(downward)[m/s]')\n",
        "plt.plot(ts, ps_hat, 'o-', label='RK4')\n",
        "plt.plot(ts, ps, 'o-', label='HNN')\n",
        "plt.plot(ts, g, label='9.8', ls='dashed', c='red')\n",
        "plt.legend()"
      ],
      "metadata": {
        "id": "m6KOlgS0E2qY",
        "colab": {
          "base_uri": "https://localhost:8080/",
          "height": 490
        },
        "outputId": "bc5538c1-b888-4191-9b3e-adbf69f0be22"
      },
      "execution_count": 20,
      "outputs": [
        {
          "output_type": "execute_result",
          "data": {
            "text/plain": [
              "<matplotlib.legend.Legend at 0x7c4717f73e20>"
            ]
          },
          "metadata": {},
          "execution_count": 20
        },
        {
          "output_type": "display_data",
          "data": {
            "text/plain": [
              "<Figure size 640x480 with 1 Axes>"
            ],
            "image/png": "[encoded data removed]"
          },
          "metadata": {}
        }
      ]
    },
    {
      "cell_type": "code",
      "source": [
        "plt.xlim([0,10])\n",
        "plt.xlabel('t[s]')\n",
        "plt.ylabel('q')\n",
        "plt.plot(ts, qs_hat, 'o-', label='RK4')\n",
        "plt.plot(ts, qs, 'o-', label='HNN')\n",
        "plt.legend()"
      ],
      "metadata": {
        "id": "zulbILMAD5N0",
        "colab": {
          "base_uri": "https://localhost:8080/",
          "height": 467
        },
        "outputId": "4a9429ba-bc29-4b01-860d-37c8c808e638"
      },
      "execution_count": 21,
      "outputs": [
        {
          "output_type": "execute_result",
          "data": {
            "text/plain": [
              "<matplotlib.legend.Legend at 0x7c471553c850>"
            ]
          },
          "metadata": {},
          "execution_count": 21
        },
        {
          "output_type": "display_data",
          "data": {
            "text/plain": [
              "<Figure size 640x480 with 1 Axes>"
            ],
            "image/png": "[encoded data removed]"
          },
          "metadata": {}
        }
      ]
    }
  ],
  "metadata": {
    "colab": {
      "provenance": []
    },
    "kernelspec": {
      "display_name": "Python 3",
      "name": "python3"
    },
    "language_info": {
      "name": "python"
    }
  },
  "nbformat": 4,
  "nbformat_minor": 0
}